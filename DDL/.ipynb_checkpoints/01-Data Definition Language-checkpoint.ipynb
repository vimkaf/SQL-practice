{
 "cells": [
  {
   "cell_type": "markdown",
   "id": "159f9200-ece3-472d-8956-cb40db5e023f",
   "metadata": {},
   "source": [
    "# Data Definition Language"
   ]
  },
  {
   "cell_type": "markdown",
   "id": "f81bd87e-5308-4727-9bab-4e7149a39a88",
   "metadata": {},
   "source": [
    "DDL or Data Definition Language actually consists of the SQL commands that can be used to define the database schema.\n",
    "List of DDL Commands\n",
    "1. Create\n",
    "2. Drop \n",
    "3. Alter\n",
    "4. Truncate\n",
    "5. Comment\n",
    "6. Rename"
   ]
  },
  {
   "cell_type": "markdown",
   "id": "04d5fd75-5db5-44b1-84b8-4144d04d05e1",
   "metadata": {},
   "source": [
    "*This exercise will guide you in creating and manipulating databases,tables and columns.*\n",
    "***"
   ]
  },
  {
   "cell_type": "markdown",
   "id": "779aa39f-0aef-40c9-8423-8762914003ab",
   "metadata": {},
   "source": [
    "Write a query to create a database called **abc_stores**"
   ]
  },
  {
   "cell_type": "markdown",
   "id": "620ff588-d52d-434a-add8-cffda61b0ff4",
   "metadata": {},
   "source": [
    "Write the query to make the database active"
   ]
  },
  {
   "cell_type": "markdown",
   "id": "c5fd0534-e941-4548-882e-ae2a17a0ee92",
   "metadata": {},
   "source": [
    "Create a table called **products** in the with the following columns\n",
    "\n",
    "| Column   | DataType | Constraints |\n",
    "|----------|----------|-------------|\n",
    "| ID       | INT(11)  | PK,AUTO_INC |\n",
    "| name     | TEXT     | NOT NULL    |\n",
    "| price    | INT      | NOT NULL    |\n",
    "| desc     | TEXT     | -           |\n",
    "| featured | INT      | -           |\n",
    "| image    | LONGTEXT | NULL        |\n",
    "\n"
   ]
  },
  {
   "cell_type": "markdown",
   "id": "c0450172-99b0-4f90-bea9-ccf828e08b37",
   "metadata": {},
   "source": [
    "Query the database to describe the table **products**"
   ]
  },
  {
   "cell_type": "markdown",
   "id": "c45f2468-c156-470a-9b77-58efd418c11a",
   "metadata": {},
   "source": [
    "Insert the following records into the table **products**\n",
    "|      Name        |  price  |       desc         | featured |    image    |\n",
    "|------------------|---------|--------------------|----------|-------------|\n",
    "| TShirt           | 52000   | TM Lewin Shirt     |    1     | null        |\n",
    "| Belt             | 8820    | Original leather   |    0     | null        |\n",
    "| Cap              | 5000    | Silk leather cap   |    1     | null        |"
   ]
  },
  {
   "cell_type": "markdown",
   "id": "9986f51d-ed3f-459d-aa8a-f6185727159d",
   "metadata": {},
   "source": [
    "Wrtie a query to modify the products table to include the columns below\n",
    "| Column   | DataType | Constraints |\n",
    "|----------|----------|-------------|\n",
    "| tags     | TEXT     |             |\n",
    "| status   | ENUM(active,inactive)  ||\n",
    "| data     | TEXT  ||"
   ]
  },
  {
   "cell_type": "markdown",
   "id": "f6931d60-35cc-4af2-b33a-de0d2ab46211",
   "metadata": {},
   "source": [
    "Describe the products table"
   ]
  },
  {
   "cell_type": "markdown",
   "id": "3f998d0a-f600-44f1-8bf7-0999f7d38234",
   "metadata": {},
   "source": [
    "Remove the data column"
   ]
  },
  {
   "cell_type": "markdown",
   "id": "1863fe3f-2fff-4f46-b871-53a49a5c1791",
   "metadata": {},
   "source": [
    "Describe the products table"
   ]
  },
  {
   "cell_type": "markdown",
   "id": "f57517a6-2419-4fed-8022-7ef57c164466",
   "metadata": {},
   "source": [
    "Add a comment to the price column that says \"Sales price\""
   ]
  },
  {
   "cell_type": "markdown",
   "id": "a5b0bfd1-3862-4ac0-b140-df4b2b224e78",
   "metadata": {},
   "source": [
    "Describe the products table"
   ]
  },
  {
   "cell_type": "markdown",
   "id": "b62d78f6-c4bc-4dc3-920c-e8ca3577b89d",
   "metadata": {},
   "source": [
    "Change the table name from \"products\" to \"product\""
   ]
  },
  {
   "cell_type": "markdown",
   "id": "20ecd951-f615-430c-af46-0e6e2ce5a245",
   "metadata": {},
   "source": [
    "Remove all data in the product table"
   ]
  },
  {
   "cell_type": "markdown",
   "id": "76feead9-01b9-4cef-ac42-f7b44c17885b",
   "metadata": {},
   "source": [
    "Remove the product table"
   ]
  },
  {
   "cell_type": "markdown",
   "id": "43bb16b6-b3b1-4f1f-a6ff-915a5f08377b",
   "metadata": {},
   "source": [
    "***\n",
    "#### The End"
   ]
  }
 ],
 "metadata": {
  "kernelspec": {
   "display_name": "MariaDB",
   "language": "SQL",
   "name": "mariadb_kernel"
  },
  "language_info": {
   "file_extension": ".sql",
   "mimetype": "text/plain",
   "name": "SQL"
  }
 },
 "nbformat": 4,
 "nbformat_minor": 5
}
